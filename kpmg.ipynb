{
 "cells": [
  {
   "cell_type": "code",
   "execution_count": 1,
   "metadata": {},
   "outputs": [
    {
     "name": "stderr",
     "output_type": "stream",
     "text": [
      "C:\\Users\\sanja\\Anaconda3\\lib\\site-packages\\statsmodels\\tools\\_testing.py:19: FutureWarning: pandas.util.testing is deprecated. Use the functions in the public API at pandas.testing instead.\n",
      "  import pandas.util.testing as tm\n"
     ]
    }
   ],
   "source": [
    "import pandas as pd\n",
    "import matplotlib.pyplot as plt\n",
    "import seaborn as sns \n",
    "import datetime as dt\n",
    "from functools import reduce"
   ]
  },
  {
   "cell_type": "code",
   "execution_count": 2,
   "metadata": {},
   "outputs": [],
   "source": [
    "#importing data\n",
    "transaction = pd.read_excel(\"C:/Users/sanja/Desktop/my files/KPMG_VI_New_raw_data_update_final.xlsx\", sheet_name='Transactions')\n",
    "demo = pd.read_excel(\"C:/Users/sanja/Desktop/my files/KPMG_VI_New_raw_data_update_final.xlsx\", sheet_name='CustomerDemographic')\n",
    "Addr = pd.read_excel(\"C:/Users/sanja/Desktop/my files/KPMG_VI_New_raw_data_update_final.xlsx\", sheet_name='CustomerAddress')"
   ]
  },
  {
   "cell_type": "code",
   "execution_count": 3,
   "metadata": {
    "scrolled": true
   },
   "outputs": [
    {
     "name": "stdout",
     "output_type": "stream",
     "text": [
      "<class 'pandas.core.frame.DataFrame'>\n",
      "RangeIndex: 20000 entries, 0 to 19999\n",
      "Data columns (total 13 columns):\n",
      " #   Column                   Non-Null Count  Dtype         \n",
      "---  ------                   --------------  -----         \n",
      " 0   transaction_id           20000 non-null  int64         \n",
      " 1   product_id               20000 non-null  int64         \n",
      " 2   customer_id              20000 non-null  int64         \n",
      " 3   transaction_date         20000 non-null  datetime64[ns]\n",
      " 4   online_order             19640 non-null  float64       \n",
      " 5   order_status             20000 non-null  object        \n",
      " 6   brand                    19803 non-null  object        \n",
      " 7   product_line             19803 non-null  object        \n",
      " 8   product_class            19803 non-null  object        \n",
      " 9   product_size             19803 non-null  object        \n",
      " 10  list_price               20000 non-null  float64       \n",
      " 11  standard_cost            19803 non-null  float64       \n",
      " 12  product_first_sold_date  19803 non-null  float64       \n",
      "dtypes: datetime64[ns](1), float64(4), int64(3), object(5)\n",
      "memory usage: 2.0+ MB\n"
     ]
    }
   ],
   "source": [
    "transaction.info()"
   ]
  },
  {
   "cell_type": "code",
   "execution_count": 4,
   "metadata": {},
   "outputs": [],
   "source": [
    "trn= transaction[transaction['order_status'] == 'Approved'] "
   ]
  },
  {
   "cell_type": "code",
   "execution_count": 5,
   "metadata": {},
   "outputs": [],
   "source": [
    "# RFM Analysis"
   ]
  },
  {
   "cell_type": "code",
   "execution_count": 6,
   "metadata": {},
   "outputs": [],
   "source": [
    "PRESENT = dt.datetime(2021,5,25)\n",
    "# Calculate the number of days between present date and date of last purchase,total profit and frequency of \n",
    "# purchases of each customer\n",
    "rfm= trn.groupby('customer_id').agg({'transaction_date': lambda date: (PRESENT - date.max()).days,\n",
    "                                        'product_id': lambda num: num.count(),\n",
    "                                        'standard_cost': lambda price: price.sum()})"
   ]
  },
  {
   "cell_type": "code",
   "execution_count": 7,
   "metadata": {
    "scrolled": true
   },
   "outputs": [],
   "source": [
    "rfm.columns=['recency','frequency','monetary']"
   ]
  },
  {
   "cell_type": "code",
   "execution_count": 8,
   "metadata": {},
   "outputs": [],
   "source": [
    "rfm['r_quartile'] = pd.qcut(rfm['recency'], 4, ['1','2','3','4'])\n",
    "rfm['f_quartile'] = pd.qcut(rfm['frequency'], 4, ['4','3','2','1'])\n",
    "rfm['m_quartile'] = pd.qcut(rfm['monetary'], 4, ['4','3','2','1'])"
   ]
  },
  {
   "cell_type": "code",
   "execution_count": 9,
   "metadata": {},
   "outputs": [
    {
     "data": {
      "text/html": [
       "<div>\n",
       "<style scoped>\n",
       "    .dataframe tbody tr th:only-of-type {\n",
       "        vertical-align: middle;\n",
       "    }\n",
       "\n",
       "    .dataframe tbody tr th {\n",
       "        vertical-align: top;\n",
       "    }\n",
       "\n",
       "    .dataframe thead th {\n",
       "        text-align: right;\n",
       "    }\n",
       "</style>\n",
       "<table border=\"1\" class=\"dataframe\">\n",
       "  <thead>\n",
       "    <tr style=\"text-align: right;\">\n",
       "      <th></th>\n",
       "      <th>recency</th>\n",
       "      <th>frequency</th>\n",
       "      <th>monetary</th>\n",
       "      <th>r_quartile</th>\n",
       "      <th>f_quartile</th>\n",
       "      <th>m_quartile</th>\n",
       "      <th>RFM_Score</th>\n",
       "    </tr>\n",
       "    <tr>\n",
       "      <th>customer_id</th>\n",
       "      <th></th>\n",
       "      <th></th>\n",
       "      <th></th>\n",
       "      <th></th>\n",
       "      <th></th>\n",
       "      <th></th>\n",
       "      <th></th>\n",
       "    </tr>\n",
       "  </thead>\n",
       "  <tbody>\n",
       "    <tr>\n",
       "      <th>1</th>\n",
       "      <td>1249</td>\n",
       "      <td>11</td>\n",
       "      <td>6066.36</td>\n",
       "      <td>1</td>\n",
       "      <td>1</td>\n",
       "      <td>1</td>\n",
       "      <td>111</td>\n",
       "    </tr>\n",
       "    <tr>\n",
       "      <th>2</th>\n",
       "      <td>1370</td>\n",
       "      <td>3</td>\n",
       "      <td>1922.81</td>\n",
       "      <td>4</td>\n",
       "      <td>4</td>\n",
       "      <td>4</td>\n",
       "      <td>444</td>\n",
       "    </tr>\n",
       "    <tr>\n",
       "      <th>3</th>\n",
       "      <td>1344</td>\n",
       "      <td>8</td>\n",
       "      <td>6525.42</td>\n",
       "      <td>4</td>\n",
       "      <td>1</td>\n",
       "      <td>1</td>\n",
       "      <td>411</td>\n",
       "    </tr>\n",
       "    <tr>\n",
       "      <th>4</th>\n",
       "      <td>1437</td>\n",
       "      <td>2</td>\n",
       "      <td>827.15</td>\n",
       "      <td>4</td>\n",
       "      <td>4</td>\n",
       "      <td>4</td>\n",
       "      <td>444</td>\n",
       "    </tr>\n",
       "    <tr>\n",
       "      <th>5</th>\n",
       "      <td>1258</td>\n",
       "      <td>6</td>\n",
       "      <td>3508.26</td>\n",
       "      <td>1</td>\n",
       "      <td>3</td>\n",
       "      <td>2</td>\n",
       "      <td>132</td>\n",
       "    </tr>\n",
       "  </tbody>\n",
       "</table>\n",
       "</div>"
      ],
      "text/plain": [
       "             recency  frequency  monetary r_quartile f_quartile m_quartile  \\\n",
       "customer_id                                                                  \n",
       "1               1249         11   6066.36          1          1          1   \n",
       "2               1370          3   1922.81          4          4          4   \n",
       "3               1344          8   6525.42          4          1          1   \n",
       "4               1437          2    827.15          4          4          4   \n",
       "5               1258          6   3508.26          1          3          2   \n",
       "\n",
       "            RFM_Score  \n",
       "customer_id            \n",
       "1                 111  \n",
       "2                 444  \n",
       "3                 411  \n",
       "4                 444  \n",
       "5                 132  "
      ]
     },
     "execution_count": 9,
     "metadata": {},
     "output_type": "execute_result"
    }
   ],
   "source": [
    "#converting to string for concatenation\n",
    "rfm['RFM_Score'] = rfm.r_quartile.astype(str)+ rfm.f_quartile.astype(str) + rfm.m_quartile.astype(str)\n",
    "rfm.head()"
   ]
  },
  {
   "cell_type": "code",
   "execution_count": 10,
   "metadata": {},
   "outputs": [],
   "source": [
    "#filtering customers whose score is 333 and above; giving equal importance for recency, frequency and monetory value when\n",
    "#considering top customers\n",
    "top_customers =rfm[rfm['RFM_Score']>='333'].sort_values('monetary', ascending=False)"
   ]
  },
  {
   "cell_type": "code",
   "execution_count": 11,
   "metadata": {
    "scrolled": true
   },
   "outputs": [
    {
     "data": {
      "text/html": [
       "<div>\n",
       "<style scoped>\n",
       "    .dataframe tbody tr th:only-of-type {\n",
       "        vertical-align: middle;\n",
       "    }\n",
       "\n",
       "    .dataframe tbody tr th {\n",
       "        vertical-align: top;\n",
       "    }\n",
       "\n",
       "    .dataframe thead th {\n",
       "        text-align: right;\n",
       "    }\n",
       "</style>\n",
       "<table border=\"1\" class=\"dataframe\">\n",
       "  <thead>\n",
       "    <tr style=\"text-align: right;\">\n",
       "      <th></th>\n",
       "      <th>RFM_Score</th>\n",
       "    </tr>\n",
       "    <tr>\n",
       "      <th>customer_id</th>\n",
       "      <th></th>\n",
       "    </tr>\n",
       "  </thead>\n",
       "  <tbody>\n",
       "    <tr>\n",
       "      <th>1932</th>\n",
       "      <td>411</td>\n",
       "    </tr>\n",
       "    <tr>\n",
       "      <th>1992</th>\n",
       "      <td>411</td>\n",
       "    </tr>\n",
       "    <tr>\n",
       "      <th>3320</th>\n",
       "      <td>411</td>\n",
       "    </tr>\n",
       "    <tr>\n",
       "      <th>34</th>\n",
       "      <td>411</td>\n",
       "    </tr>\n",
       "    <tr>\n",
       "      <th>2885</th>\n",
       "      <td>411</td>\n",
       "    </tr>\n",
       "  </tbody>\n",
       "</table>\n",
       "</div>"
      ],
      "text/plain": [
       "            RFM_Score\n",
       "customer_id          \n",
       "1932              411\n",
       "1992              411\n",
       "3320              411\n",
       "34                411\n",
       "2885              411"
      ]
     },
     "execution_count": 11,
     "metadata": {},
     "output_type": "execute_result"
    }
   ],
   "source": [
    "scores = top_customers[[ 'RFM_Score']].copy()\n",
    "scores.head()"
   ]
  },
  {
   "cell_type": "code",
   "execution_count": 12,
   "metadata": {
    "scrolled": true
   },
   "outputs": [
    {
     "data": {
      "text/html": [
       "<div>\n",
       "<style scoped>\n",
       "    .dataframe tbody tr th:only-of-type {\n",
       "        vertical-align: middle;\n",
       "    }\n",
       "\n",
       "    .dataframe tbody tr th {\n",
       "        vertical-align: top;\n",
       "    }\n",
       "\n",
       "    .dataframe thead th {\n",
       "        text-align: right;\n",
       "    }\n",
       "</style>\n",
       "<table border=\"1\" class=\"dataframe\">\n",
       "  <thead>\n",
       "    <tr style=\"text-align: right;\">\n",
       "      <th></th>\n",
       "      <th>customer_id</th>\n",
       "      <th>RFM_Score</th>\n",
       "      <th>first_name</th>\n",
       "      <th>last_name</th>\n",
       "      <th>gender</th>\n",
       "      <th>past_3_years_bike_related_purchases</th>\n",
       "      <th>DOB</th>\n",
       "      <th>job_title</th>\n",
       "      <th>job_industry_category</th>\n",
       "      <th>wealth_segment</th>\n",
       "      <th>deceased_indicator</th>\n",
       "      <th>default</th>\n",
       "      <th>owns_car</th>\n",
       "      <th>tenure</th>\n",
       "    </tr>\n",
       "  </thead>\n",
       "  <tbody>\n",
       "    <tr>\n",
       "      <th>0</th>\n",
       "      <td>1932</td>\n",
       "      <td>411</td>\n",
       "      <td>Sybila</td>\n",
       "      <td>Enefer</td>\n",
       "      <td>Female</td>\n",
       "      <td>98</td>\n",
       "      <td>1977-01-03</td>\n",
       "      <td>Librarian</td>\n",
       "      <td>Entertainment</td>\n",
       "      <td>Affluent Customer</td>\n",
       "      <td>N</td>\n",
       "      <td>&lt;svg&gt;&lt;script&gt;0&lt;1&gt;alert('XSS')&lt;/script&gt;</td>\n",
       "      <td>Yes</td>\n",
       "      <td>3.0</td>\n",
       "    </tr>\n",
       "    <tr>\n",
       "      <th>1</th>\n",
       "      <td>1992</td>\n",
       "      <td>411</td>\n",
       "      <td>Shanta</td>\n",
       "      <td>Attrill</td>\n",
       "      <td>Female</td>\n",
       "      <td>28</td>\n",
       "      <td>1995-10-21</td>\n",
       "      <td>Web Developer I</td>\n",
       "      <td>Manufacturing</td>\n",
       "      <td>Mass Customer</td>\n",
       "      <td>N</td>\n",
       "      <td>ZÌ®ÌÍÌ ÍÍAÌ¥ÌÌÍÌ»ÌLÌ£ÍÍÌ¯Ì¹ÌÍGÌ»OÌ­ÌÌ®</td>\n",
       "      <td>Yes</td>\n",
       "      <td>3.0</td>\n",
       "    </tr>\n",
       "    <tr>\n",
       "      <th>2</th>\n",
       "      <td>3320</td>\n",
       "      <td>411</td>\n",
       "      <td>Anabella</td>\n",
       "      <td>Mealham</td>\n",
       "      <td>Female</td>\n",
       "      <td>16</td>\n",
       "      <td>1994-06-02</td>\n",
       "      <td>Nuclear Power Engineer</td>\n",
       "      <td>Manufacturing</td>\n",
       "      <td>High Net Worth</td>\n",
       "      <td>N</td>\n",
       "      <td>1</td>\n",
       "      <td>No</td>\n",
       "      <td>6.0</td>\n",
       "    </tr>\n",
       "    <tr>\n",
       "      <th>3</th>\n",
       "      <td>2885</td>\n",
       "      <td>411</td>\n",
       "      <td>Minnie</td>\n",
       "      <td>Rolley</td>\n",
       "      <td>Female</td>\n",
       "      <td>70</td>\n",
       "      <td>1969-07-03</td>\n",
       "      <td>Compensation Analyst</td>\n",
       "      <td>Financial Services</td>\n",
       "      <td>Mass Customer</td>\n",
       "      <td>N</td>\n",
       "      <td>\"'</td>\n",
       "      <td>Yes</td>\n",
       "      <td>4.0</td>\n",
       "    </tr>\n",
       "    <tr>\n",
       "      <th>4</th>\n",
       "      <td>1946</td>\n",
       "      <td>411</td>\n",
       "      <td>Brannon</td>\n",
       "      <td>Gladman</td>\n",
       "      <td>Male</td>\n",
       "      <td>37</td>\n",
       "      <td>1959-01-04</td>\n",
       "      <td>Systems Administrator III</td>\n",
       "      <td>NaN</td>\n",
       "      <td>Mass Customer</td>\n",
       "      <td>N</td>\n",
       "      <td>âââ</td>\n",
       "      <td>No</td>\n",
       "      <td>8.0</td>\n",
       "    </tr>\n",
       "  </tbody>\n",
       "</table>\n",
       "</div>"
      ],
      "text/plain": [
       "   customer_id RFM_Score first_name last_name  gender  \\\n",
       "0         1932       411     Sybila    Enefer  Female   \n",
       "1         1992       411     Shanta   Attrill  Female   \n",
       "2         3320       411   Anabella   Mealham  Female   \n",
       "3         2885       411     Minnie    Rolley  Female   \n",
       "4         1946       411    Brannon   Gladman    Male   \n",
       "\n",
       "   past_3_years_bike_related_purchases        DOB                  job_title  \\\n",
       "0                                   98 1977-01-03                  Librarian   \n",
       "1                                   28 1995-10-21            Web Developer I   \n",
       "2                                   16 1994-06-02     Nuclear Power Engineer   \n",
       "3                                   70 1969-07-03       Compensation Analyst   \n",
       "4                                   37 1959-01-04  Systems Administrator III   \n",
       "\n",
       "  job_industry_category     wealth_segment deceased_indicator  \\\n",
       "0         Entertainment  Affluent Customer                  N   \n",
       "1         Manufacturing      Mass Customer                  N   \n",
       "2         Manufacturing     High Net Worth                  N   \n",
       "3    Financial Services      Mass Customer                  N   \n",
       "4                   NaN      Mass Customer                  N   \n",
       "\n",
       "                                  default owns_car  tenure  \n",
       "0  <svg><script>0<1>alert('XSS')</script>      Yes     3.0  \n",
       "1  ZÌ®ÌÍÌ ÍÍAÌ¥ÌÌÍÌ»ÌLÌ£ÍÍÌ¯Ì¹ÌÍGÌ»OÌ­ÌÌ®      Yes     3.0  \n",
       "2                                       1       No     6.0  \n",
       "3                                      \"'      Yes     4.0  \n",
       "4                                     âââ       No     8.0  "
      ]
     },
     "execution_count": 12,
     "metadata": {},
     "output_type": "execute_result"
    }
   ],
   "source": [
    "merged_data = pd.merge(scores,demo,on='customer_id')\n",
    "merged_data.head()"
   ]
  },
  {
   "cell_type": "code",
   "execution_count": 13,
   "metadata": {},
   "outputs": [],
   "source": [
    "# Datafarme that contains demographic and geographic location of top customers\n",
    "final_df = pd.merge(merged_data,Addr,on='customer_id')"
   ]
  },
  {
   "cell_type": "code",
   "execution_count": 14,
   "metadata": {
    "scrolled": true
   },
   "outputs": [
    {
     "data": {
      "text/plain": [
       "customer_id                              0\n",
       "RFM_Score                                0\n",
       "first_name                               0\n",
       "last_name                               45\n",
       "gender                                   0\n",
       "past_3_years_bike_related_purchases      0\n",
       "DOB                                     23\n",
       "job_title                              157\n",
       "job_industry_category                  213\n",
       "wealth_segment                           0\n",
       "deceased_indicator                       0\n",
       "default                                 88\n",
       "owns_car                                 0\n",
       "tenure                                  23\n",
       "address                                  0\n",
       "postcode                                 0\n",
       "state                                    0\n",
       "country                                  0\n",
       "property_valuation                       0\n",
       "dtype: int64"
      ]
     },
     "execution_count": 14,
     "metadata": {},
     "output_type": "execute_result"
    }
   ],
   "source": [
    "final_df.isna().sum()"
   ]
  },
  {
   "cell_type": "code",
   "execution_count": 15,
   "metadata": {},
   "outputs": [
    {
     "data": {
      "text/plain": [
       "<matplotlib.axes._subplots.AxesSubplot at 0x2ab28726b70>"
      ]
     },
     "execution_count": 15,
     "metadata": {},
     "output_type": "execute_result"
    },
    {
     "data": {
      "image/png": "[encoded data removed]",
      "text/plain": [
       "<Figure size 432x288 with 1 Axes>"
      ]
     },
     "metadata": {
      "needs_background": "light"
     },
     "output_type": "display_data"
    }
   ],
   "source": [
    "#Handling missing values\n",
    "#Tenure\n",
    "final_df.tenure.value_counts()[:10].plot(kind='bar')"
   ]
  },
  {
   "cell_type": "code",
   "execution_count": 16,
   "metadata": {},
   "outputs": [],
   "source": [
    "avg= final_df['tenure'].mean()\n",
    "final_df[\"tenure\"].fillna(avg, inplace = True)"
   ]
  },
  {
   "cell_type": "code",
   "execution_count": 17,
   "metadata": {},
   "outputs": [],
   "source": [
    "#Calculating Age from date of birth, filling missing values and creating bins\n",
    "now = pd.Timestamp('now')\n",
    "final_df['age'] = now - final_df['DOB']\n",
    "final_df['age'] =final_df['age'].astype('timedelta64[Y]')"
   ]
  },
  {
   "cell_type": "code",
   "execution_count": 18,
   "metadata": {},
   "outputs": [
    {
     "data": {
      "text/plain": [
       "<matplotlib.axes._subplots.AxesSubplot at 0x2ab295fb8d0>"
      ]
     },
     "execution_count": 18,
     "metadata": {},
     "output_type": "execute_result"
    },
    {
     "data": {
      "image/png": "[encoded data removed]",
      "text/plain": [
       "<Figure size 1440x720 with 1 Axes>"
      ]
     },
     "metadata": {
      "needs_background": "light"
     },
     "output_type": "display_data"
    }
   ],
   "source": [
    "fig, ax = plt.subplots(figsize=(20,10))\n",
    "\n",
    "final_df.age.value_counts().plot(kind='bar')"
   ]
  },
  {
   "cell_type": "code",
   "execution_count": 19,
   "metadata": {},
   "outputs": [],
   "source": [
    "final_df['age_bins'] = pd.cut(x=final_df['age'], bins=[15, 25, 35, 45, 55, 67])"
   ]
  },
  {
   "cell_type": "code",
   "execution_count": 20,
   "metadata": {},
   "outputs": [
    {
     "data": {
      "text/plain": [
       "43.246422893481714"
      ]
     },
     "execution_count": 20,
     "metadata": {},
     "output_type": "execute_result"
    }
   ],
   "source": [
    "avg_age= final_df['age'].mean()\n",
    "avg_age"
   ]
  },
  {
   "cell_type": "code",
   "execution_count": 21,
   "metadata": {},
   "outputs": [],
   "source": [
    "final_df[\"age\"].fillna(avg_age, inplace = True)"
   ]
  },
  {
   "cell_type": "code",
   "execution_count": 22,
   "metadata": {},
   "outputs": [
    {
     "data": {
      "text/plain": [
       "<matplotlib.axes._subplots.AxesSubplot at 0x2ab2975f748>"
      ]
     },
     "execution_count": 22,
     "metadata": {},
     "output_type": "execute_result"
    },
    {
     "data": {
      "image/png": "[encoded data removed]",
      "text/plain": [
       "<Figure size 432x288 with 1 Axes>"
      ]
     },
     "metadata": {
      "needs_background": "light"
     },
     "output_type": "display_data"
    }
   ],
   "source": [
    "final_df.age_bins.value_counts().plot(kind='bar')"
   ]
  },
  {
   "cell_type": "code",
   "execution_count": 23,
   "metadata": {},
   "outputs": [],
   "source": [
    "#gender\n",
    "final_df = final_df.replace('Femal', 'Female')\n",
    "final_df = final_df.replace('F', 'Female')\n",
    "final_df = final_df.replace('Female', 'Female')\n",
    "final_df = final_df.replace('Male', 'male')\n",
    "final_df = final_df.replace('M', 'male')"
   ]
  },
  {
   "cell_type": "code",
   "execution_count": 24,
   "metadata": {},
   "outputs": [
    {
     "data": {
      "text/plain": [
       "array(['Female', 'male', 'U'], dtype=object)"
      ]
     },
     "execution_count": 24,
     "metadata": {},
     "output_type": "execute_result"
    }
   ],
   "source": [
    "final_df.gender.unique()"
   ]
  },
  {
   "cell_type": "code",
   "execution_count": 25,
   "metadata": {},
   "outputs": [
    {
     "data": {
      "text/plain": [
       "array(['VIC', 'NSW', 'Victoria', 'QLD', 'New South Wales'], dtype=object)"
      ]
     },
     "execution_count": 25,
     "metadata": {},
     "output_type": "execute_result"
    }
   ],
   "source": [
    "#cleaning and one hot encoding -states\n",
    "final_df['state'].unique()"
   ]
  },
  {
   "cell_type": "code",
   "execution_count": 26,
   "metadata": {},
   "outputs": [],
   "source": [
    "final_df = final_df.replace(\"VIC\", \"Victoria\")\n",
    "final_df = final_df.replace(\"New South Wales\", \"NSW\")"
   ]
  },
  {
   "cell_type": "code",
   "execution_count": 27,
   "metadata": {},
   "outputs": [
    {
     "data": {
      "text/plain": [
       "array(['Victoria', 'NSW', 'QLD'], dtype=object)"
      ]
     },
     "execution_count": 27,
     "metadata": {},
     "output_type": "execute_result"
    }
   ],
   "source": [
    "final_df['state'].unique()"
   ]
  },
  {
   "cell_type": "code",
   "execution_count": 29,
   "metadata": {},
   "outputs": [
    {
     "data": {
      "text/html": [
       "<div>\n",
       "<style scoped>\n",
       "    .dataframe tbody tr th:only-of-type {\n",
       "        vertical-align: middle;\n",
       "    }\n",
       "\n",
       "    .dataframe tbody tr th {\n",
       "        vertical-align: top;\n",
       "    }\n",
       "\n",
       "    .dataframe thead th {\n",
       "        text-align: right;\n",
       "    }\n",
       "</style>\n",
       "<table border=\"1\" class=\"dataframe\">\n",
       "  <thead>\n",
       "    <tr style=\"text-align: right;\">\n",
       "      <th></th>\n",
       "      <th>customer_id</th>\n",
       "      <th>RFM_Score</th>\n",
       "      <th>first_name</th>\n",
       "      <th>last_name</th>\n",
       "      <th>gender</th>\n",
       "      <th>past_3_years_bike_related_purchases</th>\n",
       "      <th>DOB</th>\n",
       "      <th>job_title</th>\n",
       "      <th>job_industry_category</th>\n",
       "      <th>wealth_segment</th>\n",
       "      <th>...</th>\n",
       "      <th>default</th>\n",
       "      <th>owns_car</th>\n",
       "      <th>tenure</th>\n",
       "      <th>address</th>\n",
       "      <th>postcode</th>\n",
       "      <th>state</th>\n",
       "      <th>country</th>\n",
       "      <th>property_valuation</th>\n",
       "      <th>age</th>\n",
       "      <th>age_bins</th>\n",
       "    </tr>\n",
       "  </thead>\n",
       "  <tbody>\n",
       "    <tr>\n",
       "      <th>0</th>\n",
       "      <td>1932</td>\n",
       "      <td>411</td>\n",
       "      <td>Sybila</td>\n",
       "      <td>Enefer</td>\n",
       "      <td>Female</td>\n",
       "      <td>98</td>\n",
       "      <td>1977-01-03</td>\n",
       "      <td>Librarian</td>\n",
       "      <td>Entertainment</td>\n",
       "      <td>Affluent Customer</td>\n",
       "      <td>...</td>\n",
       "      <td>&lt;svg&gt;&lt;script&gt;0&lt;1&gt;alert('XSS')&lt;/script&gt;</td>\n",
       "      <td>Yes</td>\n",
       "      <td>3.0</td>\n",
       "      <td>8318 Continental Alley</td>\n",
       "      <td>3175</td>\n",
       "      <td>Victoria</td>\n",
       "      <td>Australia</td>\n",
       "      <td>7</td>\n",
       "      <td>44.0</td>\n",
       "      <td>(35, 45]</td>\n",
       "    </tr>\n",
       "    <tr>\n",
       "      <th>1</th>\n",
       "      <td>1992</td>\n",
       "      <td>411</td>\n",
       "      <td>Shanta</td>\n",
       "      <td>Attrill</td>\n",
       "      <td>Female</td>\n",
       "      <td>28</td>\n",
       "      <td>1995-10-21</td>\n",
       "      <td>Web Developer I</td>\n",
       "      <td>Manufacturing</td>\n",
       "      <td>Mass Customer</td>\n",
       "      <td>...</td>\n",
       "      <td>ZÌ®ÌÍÌ ÍÍAÌ¥ÌÌÍÌ»ÌLÌ£ÍÍÌ¯Ì¹ÌÍGÌ»OÌ­ÌÌ®</td>\n",
       "      <td>Yes</td>\n",
       "      <td>3.0</td>\n",
       "      <td>726 Warrior Center</td>\n",
       "      <td>2077</td>\n",
       "      <td>NSW</td>\n",
       "      <td>Australia</td>\n",
       "      <td>10</td>\n",
       "      <td>25.0</td>\n",
       "      <td>(15, 25]</td>\n",
       "    </tr>\n",
       "    <tr>\n",
       "      <th>2</th>\n",
       "      <td>3320</td>\n",
       "      <td>411</td>\n",
       "      <td>Anabella</td>\n",
       "      <td>Mealham</td>\n",
       "      <td>Female</td>\n",
       "      <td>16</td>\n",
       "      <td>1994-06-02</td>\n",
       "      <td>Nuclear Power Engineer</td>\n",
       "      <td>Manufacturing</td>\n",
       "      <td>High Net Worth</td>\n",
       "      <td>...</td>\n",
       "      <td>1</td>\n",
       "      <td>No</td>\n",
       "      <td>6.0</td>\n",
       "      <td>88 Michigan Junction</td>\n",
       "      <td>3109</td>\n",
       "      <td>Victoria</td>\n",
       "      <td>Australia</td>\n",
       "      <td>10</td>\n",
       "      <td>27.0</td>\n",
       "      <td>(25, 35]</td>\n",
       "    </tr>\n",
       "    <tr>\n",
       "      <th>3</th>\n",
       "      <td>2885</td>\n",
       "      <td>411</td>\n",
       "      <td>Minnie</td>\n",
       "      <td>Rolley</td>\n",
       "      <td>Female</td>\n",
       "      <td>70</td>\n",
       "      <td>1969-07-03</td>\n",
       "      <td>Compensation Analyst</td>\n",
       "      <td>Financial Services</td>\n",
       "      <td>Mass Customer</td>\n",
       "      <td>...</td>\n",
       "      <td>\"'</td>\n",
       "      <td>Yes</td>\n",
       "      <td>4.0</td>\n",
       "      <td>17 Sachs Street</td>\n",
       "      <td>2761</td>\n",
       "      <td>NSW</td>\n",
       "      <td>Australia</td>\n",
       "      <td>8</td>\n",
       "      <td>51.0</td>\n",
       "      <td>(45, 55]</td>\n",
       "    </tr>\n",
       "    <tr>\n",
       "      <th>4</th>\n",
       "      <td>1946</td>\n",
       "      <td>411</td>\n",
       "      <td>Brannon</td>\n",
       "      <td>Gladman</td>\n",
       "      <td>male</td>\n",
       "      <td>37</td>\n",
       "      <td>1959-01-04</td>\n",
       "      <td>Systems Administrator III</td>\n",
       "      <td>NaN</td>\n",
       "      <td>Mass Customer</td>\n",
       "      <td>...</td>\n",
       "      <td>âââ</td>\n",
       "      <td>No</td>\n",
       "      <td>8.0</td>\n",
       "      <td>53 Dakota Court</td>\n",
       "      <td>2027</td>\n",
       "      <td>NSW</td>\n",
       "      <td>Australia</td>\n",
       "      <td>9</td>\n",
       "      <td>62.0</td>\n",
       "      <td>(55, 67]</td>\n",
       "    </tr>\n",
       "    <tr>\n",
       "      <th>...</th>\n",
       "      <td>...</td>\n",
       "      <td>...</td>\n",
       "      <td>...</td>\n",
       "      <td>...</td>\n",
       "      <td>...</td>\n",
       "      <td>...</td>\n",
       "      <td>...</td>\n",
       "      <td>...</td>\n",
       "      <td>...</td>\n",
       "      <td>...</td>\n",
       "      <td>...</td>\n",
       "      <td>...</td>\n",
       "      <td>...</td>\n",
       "      <td>...</td>\n",
       "      <td>...</td>\n",
       "      <td>...</td>\n",
       "      <td>...</td>\n",
       "      <td>...</td>\n",
       "      <td>...</td>\n",
       "      <td>...</td>\n",
       "      <td>...</td>\n",
       "    </tr>\n",
       "    <tr>\n",
       "      <th>1276</th>\n",
       "      <td>431</td>\n",
       "      <td>444</td>\n",
       "      <td>Gale</td>\n",
       "      <td>Done</td>\n",
       "      <td>male</td>\n",
       "      <td>8</td>\n",
       "      <td>1956-03-26</td>\n",
       "      <td>Research Nurse</td>\n",
       "      <td>Health</td>\n",
       "      <td>Affluent Customer</td>\n",
       "      <td>...</td>\n",
       "      <td>ÅâÂ´Â®â Â¥Â¨ËÃ¸Ïââ</td>\n",
       "      <td>Yes</td>\n",
       "      <td>18.0</td>\n",
       "      <td>6920 Dwight Circle</td>\n",
       "      <td>4173</td>\n",
       "      <td>QLD</td>\n",
       "      <td>Australia</td>\n",
       "      <td>7</td>\n",
       "      <td>65.0</td>\n",
       "      <td>(55, 67]</td>\n",
       "    </tr>\n",
       "    <tr>\n",
       "      <th>1277</th>\n",
       "      <td>2271</td>\n",
       "      <td>444</td>\n",
       "      <td>King</td>\n",
       "      <td>Hoston</td>\n",
       "      <td>male</td>\n",
       "      <td>96</td>\n",
       "      <td>1974-03-26</td>\n",
       "      <td>NaN</td>\n",
       "      <td>Telecommunications</td>\n",
       "      <td>Mass Customer</td>\n",
       "      <td>...</td>\n",
       "      <td>''''\"</td>\n",
       "      <td>Yes</td>\n",
       "      <td>18.0</td>\n",
       "      <td>004 Gulseth Junction</td>\n",
       "      <td>2619</td>\n",
       "      <td>NSW</td>\n",
       "      <td>Australia</td>\n",
       "      <td>8</td>\n",
       "      <td>47.0</td>\n",
       "      <td>(45, 55]</td>\n",
       "    </tr>\n",
       "    <tr>\n",
       "      <th>1278</th>\n",
       "      <td>2532</td>\n",
       "      <td>444</td>\n",
       "      <td>Milli</td>\n",
       "      <td>Hubbert</td>\n",
       "      <td>Female</td>\n",
       "      <td>27</td>\n",
       "      <td>1969-05-01</td>\n",
       "      <td>NaN</td>\n",
       "      <td>Manufacturing</td>\n",
       "      <td>Mass Customer</td>\n",
       "      <td>...</td>\n",
       "      <td>ÌÌºÍÌ¹Ì¯ÍTÌ±Ì¤ÍÌ¥ÍÍhÍÌ²eÍÍÌ¼ÌÌÌ¼Ì£Í ÍÌÌ±Ì ÍÍÍN...</td>\n",
       "      <td>No</td>\n",
       "      <td>11.0</td>\n",
       "      <td>53723 Dunning Street</td>\n",
       "      <td>2153</td>\n",
       "      <td>NSW</td>\n",
       "      <td>Australia</td>\n",
       "      <td>11</td>\n",
       "      <td>52.0</td>\n",
       "      <td>(45, 55]</td>\n",
       "    </tr>\n",
       "    <tr>\n",
       "      <th>1279</th>\n",
       "      <td>3292</td>\n",
       "      <td>444</td>\n",
       "      <td>Hamlen</td>\n",
       "      <td>Slograve</td>\n",
       "      <td>male</td>\n",
       "      <td>71</td>\n",
       "      <td>1973-04-09</td>\n",
       "      <td>Web Designer I</td>\n",
       "      <td>Retail</td>\n",
       "      <td>Affluent Customer</td>\n",
       "      <td>...</td>\n",
       "      <td>() { 0; }; touch /tmp/blns.shellshock1.fail;</td>\n",
       "      <td>Yes</td>\n",
       "      <td>3.0</td>\n",
       "      <td>6 Golf Center</td>\n",
       "      <td>2042</td>\n",
       "      <td>NSW</td>\n",
       "      <td>Australia</td>\n",
       "      <td>10</td>\n",
       "      <td>48.0</td>\n",
       "      <td>(45, 55]</td>\n",
       "    </tr>\n",
       "    <tr>\n",
       "      <th>1280</th>\n",
       "      <td>3040</td>\n",
       "      <td>444</td>\n",
       "      <td>Kameko</td>\n",
       "      <td>Kinrade</td>\n",
       "      <td>Female</td>\n",
       "      <td>87</td>\n",
       "      <td>1966-11-28</td>\n",
       "      <td>General Manager</td>\n",
       "      <td>Retail</td>\n",
       "      <td>Mass Customer</td>\n",
       "      <td>...</td>\n",
       "      <td>Â¸ËÃâÄ±ËÃÂ¯ËÂ¿</td>\n",
       "      <td>No</td>\n",
       "      <td>5.0</td>\n",
       "      <td>1 Melrose Lane</td>\n",
       "      <td>2010</td>\n",
       "      <td>NSW</td>\n",
       "      <td>Australia</td>\n",
       "      <td>9</td>\n",
       "      <td>54.0</td>\n",
       "      <td>(45, 55]</td>\n",
       "    </tr>\n",
       "  </tbody>\n",
       "</table>\n",
       "<p>1281 rows × 21 columns</p>\n",
       "</div>"
      ],
      "text/plain": [
       "      customer_id RFM_Score first_name last_name  gender  \\\n",
       "0            1932       411     Sybila    Enefer  Female   \n",
       "1            1992       411     Shanta   Attrill  Female   \n",
       "2            3320       411   Anabella   Mealham  Female   \n",
       "3            2885       411     Minnie    Rolley  Female   \n",
       "4            1946       411    Brannon   Gladman    male   \n",
       "...           ...       ...        ...       ...     ...   \n",
       "1276          431       444       Gale      Done    male   \n",
       "1277         2271       444       King    Hoston    male   \n",
       "1278         2532       444      Milli   Hubbert  Female   \n",
       "1279         3292       444     Hamlen  Slograve    male   \n",
       "1280         3040       444     Kameko   Kinrade  Female   \n",
       "\n",
       "      past_3_years_bike_related_purchases        DOB  \\\n",
       "0                                      98 1977-01-03   \n",
       "1                                      28 1995-10-21   \n",
       "2                                      16 1994-06-02   \n",
       "3                                      70 1969-07-03   \n",
       "4                                      37 1959-01-04   \n",
       "...                                   ...        ...   \n",
       "1276                                    8 1956-03-26   \n",
       "1277                                   96 1974-03-26   \n",
       "1278                                   27 1969-05-01   \n",
       "1279                                   71 1973-04-09   \n",
       "1280                                   87 1966-11-28   \n",
       "\n",
       "                      job_title job_industry_category     wealth_segment  ...  \\\n",
       "0                     Librarian         Entertainment  Affluent Customer  ...   \n",
       "1               Web Developer I         Manufacturing      Mass Customer  ...   \n",
       "2        Nuclear Power Engineer         Manufacturing     High Net Worth  ...   \n",
       "3          Compensation Analyst    Financial Services      Mass Customer  ...   \n",
       "4     Systems Administrator III                   NaN      Mass Customer  ...   \n",
       "...                         ...                   ...                ...  ...   \n",
       "1276             Research Nurse                Health  Affluent Customer  ...   \n",
       "1277                        NaN    Telecommunications      Mass Customer  ...   \n",
       "1278                        NaN         Manufacturing      Mass Customer  ...   \n",
       "1279             Web Designer I                Retail  Affluent Customer  ...   \n",
       "1280            General Manager                Retail      Mass Customer  ...   \n",
       "\n",
       "                                                default owns_car tenure  \\\n",
       "0                <svg><script>0<1>alert('XSS')</script>      Yes    3.0   \n",
       "1                ZÌ®ÌÍÌ ÍÍAÌ¥ÌÌÍÌ»ÌLÌ£ÍÍÌ¯Ì¹ÌÍGÌ»OÌ­ÌÌ®      Yes    3.0   \n",
       "2                                                     1       No    6.0   \n",
       "3                                                    \"'      Yes    4.0   \n",
       "4                                                   âââ       No    8.0   \n",
       "...                                                 ...      ...    ...   \n",
       "1276                                 ÅâÂ´Â®â Â¥Â¨ËÃ¸Ïââ      Yes   18.0   \n",
       "1277                                              ''''\"      Yes   18.0   \n",
       "1278  ÌÌºÍÌ¹Ì¯ÍTÌ±Ì¤ÍÌ¥ÍÍhÍÌ²eÍÍÌ¼ÌÌÌ¼Ì£Í ÍÌÌ±Ì ÍÍÍN...       No   11.0   \n",
       "1279       () { 0; }; touch /tmp/blns.shellshock1.fail;      Yes    3.0   \n",
       "1280                                     Â¸ËÃâÄ±ËÃÂ¯ËÂ¿       No    5.0   \n",
       "\n",
       "                     address postcode     state    country property_valuation  \\\n",
       "0     8318 Continental Alley     3175  Victoria  Australia                  7   \n",
       "1         726 Warrior Center     2077       NSW  Australia                 10   \n",
       "2       88 Michigan Junction     3109  Victoria  Australia                 10   \n",
       "3            17 Sachs Street     2761       NSW  Australia                  8   \n",
       "4            53 Dakota Court     2027       NSW  Australia                  9   \n",
       "...                      ...      ...       ...        ...                ...   \n",
       "1276      6920 Dwight Circle     4173       QLD  Australia                  7   \n",
       "1277    004 Gulseth Junction     2619       NSW  Australia                  8   \n",
       "1278    53723 Dunning Street     2153       NSW  Australia                 11   \n",
       "1279           6 Golf Center     2042       NSW  Australia                 10   \n",
       "1280          1 Melrose Lane     2010       NSW  Australia                  9   \n",
       "\n",
       "       age  age_bins  \n",
       "0     44.0  (35, 45]  \n",
       "1     25.0  (15, 25]  \n",
       "2     27.0  (25, 35]  \n",
       "3     51.0  (45, 55]  \n",
       "4     62.0  (55, 67]  \n",
       "...    ...       ...  \n",
       "1276  65.0  (55, 67]  \n",
       "1277  47.0  (45, 55]  \n",
       "1278  52.0  (45, 55]  \n",
       "1279  48.0  (45, 55]  \n",
       "1280  54.0  (45, 55]  \n",
       "\n",
       "[1281 rows x 21 columns]"
      ]
     },
     "execution_count": 29,
     "metadata": {},
     "output_type": "execute_result"
    }
   ],
   "source": [
    "final_df"
   ]
  },
  {
   "cell_type": "code",
   "execution_count": null,
   "metadata": {},
   "outputs": [],
   "source": [
   ]
  }
 ],
 "metadata": {
  "kernelspec": {
   "display_name": "Python 3",
   "language": "python",
   "name": "python3"
  },
  "language_info": {
   "codemirror_mode": {
    "name": "ipython",
    "version": 3
   },
   "file_extension": ".py",
   "mimetype": "text/x-python",
   "name": "python",
   "nbconvert_exporter": "python",
   "pygments_lexer": "ipython3",
   "version": "3.7.3"
  }
 },
 "nbformat": 4,
 "nbformat_minor": 2
}
